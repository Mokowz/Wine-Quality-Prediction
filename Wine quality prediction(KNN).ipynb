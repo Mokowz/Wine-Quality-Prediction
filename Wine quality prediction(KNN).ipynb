{
 "cells": [
  {
   "cell_type": "code",
   "execution_count": 1,
   "id": "d21eb89b",
   "metadata": {},
   "outputs": [],
   "source": [
    "import pandas as pd\n",
    "import numpy as np"
   ]
  },
  {
   "cell_type": "code",
   "execution_count": 4,
   "id": "3b18142d",
   "metadata": {},
   "outputs": [
    {
     "data": {
      "text/html": [
       "<div>\n",
       "<style scoped>\n",
       "    .dataframe tbody tr th:only-of-type {\n",
       "        vertical-align: middle;\n",
       "    }\n",
       "\n",
       "    .dataframe tbody tr th {\n",
       "        vertical-align: top;\n",
       "    }\n",
       "\n",
       "    .dataframe thead th {\n",
       "        text-align: right;\n",
       "    }\n",
       "</style>\n",
       "<table border=\"1\" class=\"dataframe\">\n",
       "  <thead>\n",
       "    <tr style=\"text-align: right;\">\n",
       "      <th></th>\n",
       "      <th>fixed acidity</th>\n",
       "      <th>volatile acidity</th>\n",
       "      <th>citric acid</th>\n",
       "      <th>residual sugar</th>\n",
       "      <th>chlorides</th>\n",
       "      <th>free sulfur dioxide</th>\n",
       "      <th>total sulfur dioxide</th>\n",
       "      <th>density</th>\n",
       "      <th>pH</th>\n",
       "      <th>sulphates</th>\n",
       "      <th>alcohol</th>\n",
       "      <th>quality</th>\n",
       "    </tr>\n",
       "  </thead>\n",
       "  <tbody>\n",
       "    <tr>\n",
       "      <th>0</th>\n",
       "      <td>7.0</td>\n",
       "      <td>0.27</td>\n",
       "      <td>0.36</td>\n",
       "      <td>20.7</td>\n",
       "      <td>0.045</td>\n",
       "      <td>45.0</td>\n",
       "      <td>170.0</td>\n",
       "      <td>1.0010</td>\n",
       "      <td>3.00</td>\n",
       "      <td>0.45</td>\n",
       "      <td>8.8</td>\n",
       "      <td>6</td>\n",
       "    </tr>\n",
       "    <tr>\n",
       "      <th>1</th>\n",
       "      <td>6.3</td>\n",
       "      <td>0.30</td>\n",
       "      <td>0.34</td>\n",
       "      <td>1.6</td>\n",
       "      <td>0.049</td>\n",
       "      <td>14.0</td>\n",
       "      <td>132.0</td>\n",
       "      <td>0.9940</td>\n",
       "      <td>3.30</td>\n",
       "      <td>0.49</td>\n",
       "      <td>9.5</td>\n",
       "      <td>6</td>\n",
       "    </tr>\n",
       "    <tr>\n",
       "      <th>2</th>\n",
       "      <td>8.1</td>\n",
       "      <td>0.28</td>\n",
       "      <td>0.40</td>\n",
       "      <td>6.9</td>\n",
       "      <td>0.050</td>\n",
       "      <td>30.0</td>\n",
       "      <td>97.0</td>\n",
       "      <td>0.9951</td>\n",
       "      <td>3.26</td>\n",
       "      <td>0.44</td>\n",
       "      <td>10.1</td>\n",
       "      <td>6</td>\n",
       "    </tr>\n",
       "    <tr>\n",
       "      <th>3</th>\n",
       "      <td>7.2</td>\n",
       "      <td>0.23</td>\n",
       "      <td>0.32</td>\n",
       "      <td>8.5</td>\n",
       "      <td>0.058</td>\n",
       "      <td>47.0</td>\n",
       "      <td>186.0</td>\n",
       "      <td>0.9956</td>\n",
       "      <td>3.19</td>\n",
       "      <td>0.40</td>\n",
       "      <td>9.9</td>\n",
       "      <td>6</td>\n",
       "    </tr>\n",
       "    <tr>\n",
       "      <th>4</th>\n",
       "      <td>7.2</td>\n",
       "      <td>0.23</td>\n",
       "      <td>0.32</td>\n",
       "      <td>8.5</td>\n",
       "      <td>0.058</td>\n",
       "      <td>47.0</td>\n",
       "      <td>186.0</td>\n",
       "      <td>0.9956</td>\n",
       "      <td>3.19</td>\n",
       "      <td>0.40</td>\n",
       "      <td>9.9</td>\n",
       "      <td>6</td>\n",
       "    </tr>\n",
       "  </tbody>\n",
       "</table>\n",
       "</div>"
      ],
      "text/plain": [
       "   fixed acidity  volatile acidity  citric acid  residual sugar  chlorides  \\\n",
       "0            7.0              0.27         0.36            20.7      0.045   \n",
       "1            6.3              0.30         0.34             1.6      0.049   \n",
       "2            8.1              0.28         0.40             6.9      0.050   \n",
       "3            7.2              0.23         0.32             8.5      0.058   \n",
       "4            7.2              0.23         0.32             8.5      0.058   \n",
       "\n",
       "   free sulfur dioxide  total sulfur dioxide  density    pH  sulphates  \\\n",
       "0                 45.0                 170.0   1.0010  3.00       0.45   \n",
       "1                 14.0                 132.0   0.9940  3.30       0.49   \n",
       "2                 30.0                  97.0   0.9951  3.26       0.44   \n",
       "3                 47.0                 186.0   0.9956  3.19       0.40   \n",
       "4                 47.0                 186.0   0.9956  3.19       0.40   \n",
       "\n",
       "   alcohol  quality  \n",
       "0      8.8        6  \n",
       "1      9.5        6  \n",
       "2     10.1        6  \n",
       "3      9.9        6  \n",
       "4      9.9        6  "
      ]
     },
     "execution_count": 4,
     "metadata": {},
     "output_type": "execute_result"
    }
   ],
   "source": [
    "df = pd.read_csv(\"https://archive.ics.uci.edu/ml/machine-learning-databases/wine-quality/winequality-white.csv\", sep=\";\")\n",
    "df.head()"
   ]
  },
  {
   "cell_type": "markdown",
   "id": "9b4cd074",
   "metadata": {},
   "source": [
    "### EDA"
   ]
  },
  {
   "cell_type": "code",
   "execution_count": 5,
   "id": "eba11fbe",
   "metadata": {},
   "outputs": [
    {
     "data": {
      "text/plain": [
       "(4898, 12)"
      ]
     },
     "execution_count": 5,
     "metadata": {},
     "output_type": "execute_result"
    }
   ],
   "source": [
    "df.shape"
   ]
  },
  {
   "cell_type": "code",
   "execution_count": 6,
   "id": "299e3ef8",
   "metadata": {},
   "outputs": [
    {
     "name": "stdout",
     "output_type": "stream",
     "text": [
      "<class 'pandas.core.frame.DataFrame'>\n",
      "RangeIndex: 4898 entries, 0 to 4897\n",
      "Data columns (total 12 columns):\n",
      " #   Column                Non-Null Count  Dtype  \n",
      "---  ------                --------------  -----  \n",
      " 0   fixed acidity         4898 non-null   float64\n",
      " 1   volatile acidity      4898 non-null   float64\n",
      " 2   citric acid           4898 non-null   float64\n",
      " 3   residual sugar        4898 non-null   float64\n",
      " 4   chlorides             4898 non-null   float64\n",
      " 5   free sulfur dioxide   4898 non-null   float64\n",
      " 6   total sulfur dioxide  4898 non-null   float64\n",
      " 7   density               4898 non-null   float64\n",
      " 8   pH                    4898 non-null   float64\n",
      " 9   sulphates             4898 non-null   float64\n",
      " 10  alcohol               4898 non-null   float64\n",
      " 11  quality               4898 non-null   int64  \n",
      "dtypes: float64(11), int64(1)\n",
      "memory usage: 459.3 KB\n"
     ]
    }
   ],
   "source": [
    "df.info()"
   ]
  },
  {
   "cell_type": "code",
   "execution_count": 7,
   "id": "3dba66d3",
   "metadata": {},
   "outputs": [
    {
     "data": {
      "text/html": [
       "<div>\n",
       "<style scoped>\n",
       "    .dataframe tbody tr th:only-of-type {\n",
       "        vertical-align: middle;\n",
       "    }\n",
       "\n",
       "    .dataframe tbody tr th {\n",
       "        vertical-align: top;\n",
       "    }\n",
       "\n",
       "    .dataframe thead th {\n",
       "        text-align: right;\n",
       "    }\n",
       "</style>\n",
       "<table border=\"1\" class=\"dataframe\">\n",
       "  <thead>\n",
       "    <tr style=\"text-align: right;\">\n",
       "      <th></th>\n",
       "      <th>fixed acidity</th>\n",
       "      <th>volatile acidity</th>\n",
       "      <th>citric acid</th>\n",
       "      <th>residual sugar</th>\n",
       "      <th>chlorides</th>\n",
       "      <th>free sulfur dioxide</th>\n",
       "      <th>total sulfur dioxide</th>\n",
       "      <th>density</th>\n",
       "      <th>pH</th>\n",
       "      <th>sulphates</th>\n",
       "      <th>alcohol</th>\n",
       "      <th>quality</th>\n",
       "    </tr>\n",
       "  </thead>\n",
       "  <tbody>\n",
       "    <tr>\n",
       "      <th>count</th>\n",
       "      <td>4898.000000</td>\n",
       "      <td>4898.000000</td>\n",
       "      <td>4898.000000</td>\n",
       "      <td>4898.000000</td>\n",
       "      <td>4898.000000</td>\n",
       "      <td>4898.000000</td>\n",
       "      <td>4898.000000</td>\n",
       "      <td>4898.000000</td>\n",
       "      <td>4898.000000</td>\n",
       "      <td>4898.000000</td>\n",
       "      <td>4898.000000</td>\n",
       "      <td>4898.000000</td>\n",
       "    </tr>\n",
       "    <tr>\n",
       "      <th>mean</th>\n",
       "      <td>6.854788</td>\n",
       "      <td>0.278241</td>\n",
       "      <td>0.334192</td>\n",
       "      <td>6.391415</td>\n",
       "      <td>0.045772</td>\n",
       "      <td>35.308085</td>\n",
       "      <td>138.360657</td>\n",
       "      <td>0.994027</td>\n",
       "      <td>3.188267</td>\n",
       "      <td>0.489847</td>\n",
       "      <td>10.514267</td>\n",
       "      <td>5.877909</td>\n",
       "    </tr>\n",
       "    <tr>\n",
       "      <th>std</th>\n",
       "      <td>0.843868</td>\n",
       "      <td>0.100795</td>\n",
       "      <td>0.121020</td>\n",
       "      <td>5.072058</td>\n",
       "      <td>0.021848</td>\n",
       "      <td>17.007137</td>\n",
       "      <td>42.498065</td>\n",
       "      <td>0.002991</td>\n",
       "      <td>0.151001</td>\n",
       "      <td>0.114126</td>\n",
       "      <td>1.230621</td>\n",
       "      <td>0.885639</td>\n",
       "    </tr>\n",
       "    <tr>\n",
       "      <th>min</th>\n",
       "      <td>3.800000</td>\n",
       "      <td>0.080000</td>\n",
       "      <td>0.000000</td>\n",
       "      <td>0.600000</td>\n",
       "      <td>0.009000</td>\n",
       "      <td>2.000000</td>\n",
       "      <td>9.000000</td>\n",
       "      <td>0.987110</td>\n",
       "      <td>2.720000</td>\n",
       "      <td>0.220000</td>\n",
       "      <td>8.000000</td>\n",
       "      <td>3.000000</td>\n",
       "    </tr>\n",
       "    <tr>\n",
       "      <th>25%</th>\n",
       "      <td>6.300000</td>\n",
       "      <td>0.210000</td>\n",
       "      <td>0.270000</td>\n",
       "      <td>1.700000</td>\n",
       "      <td>0.036000</td>\n",
       "      <td>23.000000</td>\n",
       "      <td>108.000000</td>\n",
       "      <td>0.991723</td>\n",
       "      <td>3.090000</td>\n",
       "      <td>0.410000</td>\n",
       "      <td>9.500000</td>\n",
       "      <td>5.000000</td>\n",
       "    </tr>\n",
       "    <tr>\n",
       "      <th>50%</th>\n",
       "      <td>6.800000</td>\n",
       "      <td>0.260000</td>\n",
       "      <td>0.320000</td>\n",
       "      <td>5.200000</td>\n",
       "      <td>0.043000</td>\n",
       "      <td>34.000000</td>\n",
       "      <td>134.000000</td>\n",
       "      <td>0.993740</td>\n",
       "      <td>3.180000</td>\n",
       "      <td>0.470000</td>\n",
       "      <td>10.400000</td>\n",
       "      <td>6.000000</td>\n",
       "    </tr>\n",
       "    <tr>\n",
       "      <th>75%</th>\n",
       "      <td>7.300000</td>\n",
       "      <td>0.320000</td>\n",
       "      <td>0.390000</td>\n",
       "      <td>9.900000</td>\n",
       "      <td>0.050000</td>\n",
       "      <td>46.000000</td>\n",
       "      <td>167.000000</td>\n",
       "      <td>0.996100</td>\n",
       "      <td>3.280000</td>\n",
       "      <td>0.550000</td>\n",
       "      <td>11.400000</td>\n",
       "      <td>6.000000</td>\n",
       "    </tr>\n",
       "    <tr>\n",
       "      <th>max</th>\n",
       "      <td>14.200000</td>\n",
       "      <td>1.100000</td>\n",
       "      <td>1.660000</td>\n",
       "      <td>65.800000</td>\n",
       "      <td>0.346000</td>\n",
       "      <td>289.000000</td>\n",
       "      <td>440.000000</td>\n",
       "      <td>1.038980</td>\n",
       "      <td>3.820000</td>\n",
       "      <td>1.080000</td>\n",
       "      <td>14.200000</td>\n",
       "      <td>9.000000</td>\n",
       "    </tr>\n",
       "  </tbody>\n",
       "</table>\n",
       "</div>"
      ],
      "text/plain": [
       "       fixed acidity  volatile acidity  citric acid  residual sugar  \\\n",
       "count    4898.000000       4898.000000  4898.000000     4898.000000   \n",
       "mean        6.854788          0.278241     0.334192        6.391415   \n",
       "std         0.843868          0.100795     0.121020        5.072058   \n",
       "min         3.800000          0.080000     0.000000        0.600000   \n",
       "25%         6.300000          0.210000     0.270000        1.700000   \n",
       "50%         6.800000          0.260000     0.320000        5.200000   \n",
       "75%         7.300000          0.320000     0.390000        9.900000   \n",
       "max        14.200000          1.100000     1.660000       65.800000   \n",
       "\n",
       "         chlorides  free sulfur dioxide  total sulfur dioxide      density  \\\n",
       "count  4898.000000          4898.000000           4898.000000  4898.000000   \n",
       "mean      0.045772            35.308085            138.360657     0.994027   \n",
       "std       0.021848            17.007137             42.498065     0.002991   \n",
       "min       0.009000             2.000000              9.000000     0.987110   \n",
       "25%       0.036000            23.000000            108.000000     0.991723   \n",
       "50%       0.043000            34.000000            134.000000     0.993740   \n",
       "75%       0.050000            46.000000            167.000000     0.996100   \n",
       "max       0.346000           289.000000            440.000000     1.038980   \n",
       "\n",
       "                pH    sulphates      alcohol      quality  \n",
       "count  4898.000000  4898.000000  4898.000000  4898.000000  \n",
       "mean      3.188267     0.489847    10.514267     5.877909  \n",
       "std       0.151001     0.114126     1.230621     0.885639  \n",
       "min       2.720000     0.220000     8.000000     3.000000  \n",
       "25%       3.090000     0.410000     9.500000     5.000000  \n",
       "50%       3.180000     0.470000    10.400000     6.000000  \n",
       "75%       3.280000     0.550000    11.400000     6.000000  \n",
       "max       3.820000     1.080000    14.200000     9.000000  "
      ]
     },
     "execution_count": 7,
     "metadata": {},
     "output_type": "execute_result"
    }
   ],
   "source": [
    "# Summary statistics\n",
    "df.describe()"
   ]
  },
  {
   "cell_type": "code",
   "execution_count": 8,
   "id": "511b2a2b",
   "metadata": {},
   "outputs": [
    {
     "data": {
      "text/plain": [
       "fixed acidity           0\n",
       "volatile acidity        0\n",
       "citric acid             0\n",
       "residual sugar          0\n",
       "chlorides               0\n",
       "free sulfur dioxide     0\n",
       "total sulfur dioxide    0\n",
       "density                 0\n",
       "pH                      0\n",
       "sulphates               0\n",
       "alcohol                 0\n",
       "quality                 0\n",
       "dtype: int64"
      ]
     },
     "execution_count": 8,
     "metadata": {},
     "output_type": "execute_result"
    }
   ],
   "source": [
    "# Number of missing values\n",
    "df.isnull().sum()"
   ]
  },
  {
   "cell_type": "code",
   "execution_count": 9,
   "id": "e4019f75",
   "metadata": {},
   "outputs": [
    {
     "data": {
      "text/html": [
       "<div>\n",
       "<style scoped>\n",
       "    .dataframe tbody tr th:only-of-type {\n",
       "        vertical-align: middle;\n",
       "    }\n",
       "\n",
       "    .dataframe tbody tr th {\n",
       "        vertical-align: top;\n",
       "    }\n",
       "\n",
       "    .dataframe thead th {\n",
       "        text-align: right;\n",
       "    }\n",
       "</style>\n",
       "<table border=\"1\" class=\"dataframe\">\n",
       "  <thead>\n",
       "    <tr style=\"text-align: right;\">\n",
       "      <th></th>\n",
       "      <th>fixed acidity</th>\n",
       "      <th>volatile acidity</th>\n",
       "      <th>citric acid</th>\n",
       "      <th>residual sugar</th>\n",
       "      <th>chlorides</th>\n",
       "      <th>free sulfur dioxide</th>\n",
       "      <th>total sulfur dioxide</th>\n",
       "      <th>density</th>\n",
       "      <th>pH</th>\n",
       "      <th>sulphates</th>\n",
       "      <th>alcohol</th>\n",
       "      <th>quality</th>\n",
       "    </tr>\n",
       "  </thead>\n",
       "  <tbody>\n",
       "    <tr>\n",
       "      <th>fixed acidity</th>\n",
       "      <td>1.000000</td>\n",
       "      <td>-0.022697</td>\n",
       "      <td>0.289181</td>\n",
       "      <td>0.089021</td>\n",
       "      <td>0.023086</td>\n",
       "      <td>-0.049396</td>\n",
       "      <td>0.091070</td>\n",
       "      <td>0.265331</td>\n",
       "      <td>-0.425858</td>\n",
       "      <td>-0.017143</td>\n",
       "      <td>-0.120881</td>\n",
       "      <td>-0.113663</td>\n",
       "    </tr>\n",
       "    <tr>\n",
       "      <th>volatile acidity</th>\n",
       "      <td>-0.022697</td>\n",
       "      <td>1.000000</td>\n",
       "      <td>-0.149472</td>\n",
       "      <td>0.064286</td>\n",
       "      <td>0.070512</td>\n",
       "      <td>-0.097012</td>\n",
       "      <td>0.089261</td>\n",
       "      <td>0.027114</td>\n",
       "      <td>-0.031915</td>\n",
       "      <td>-0.035728</td>\n",
       "      <td>0.067718</td>\n",
       "      <td>-0.194723</td>\n",
       "    </tr>\n",
       "    <tr>\n",
       "      <th>citric acid</th>\n",
       "      <td>0.289181</td>\n",
       "      <td>-0.149472</td>\n",
       "      <td>1.000000</td>\n",
       "      <td>0.094212</td>\n",
       "      <td>0.114364</td>\n",
       "      <td>0.094077</td>\n",
       "      <td>0.121131</td>\n",
       "      <td>0.149503</td>\n",
       "      <td>-0.163748</td>\n",
       "      <td>0.062331</td>\n",
       "      <td>-0.075729</td>\n",
       "      <td>-0.009209</td>\n",
       "    </tr>\n",
       "    <tr>\n",
       "      <th>residual sugar</th>\n",
       "      <td>0.089021</td>\n",
       "      <td>0.064286</td>\n",
       "      <td>0.094212</td>\n",
       "      <td>1.000000</td>\n",
       "      <td>0.088685</td>\n",
       "      <td>0.299098</td>\n",
       "      <td>0.401439</td>\n",
       "      <td>0.838966</td>\n",
       "      <td>-0.194133</td>\n",
       "      <td>-0.026664</td>\n",
       "      <td>-0.450631</td>\n",
       "      <td>-0.097577</td>\n",
       "    </tr>\n",
       "    <tr>\n",
       "      <th>chlorides</th>\n",
       "      <td>0.023086</td>\n",
       "      <td>0.070512</td>\n",
       "      <td>0.114364</td>\n",
       "      <td>0.088685</td>\n",
       "      <td>1.000000</td>\n",
       "      <td>0.101392</td>\n",
       "      <td>0.198910</td>\n",
       "      <td>0.257211</td>\n",
       "      <td>-0.090439</td>\n",
       "      <td>0.016763</td>\n",
       "      <td>-0.360189</td>\n",
       "      <td>-0.209934</td>\n",
       "    </tr>\n",
       "    <tr>\n",
       "      <th>free sulfur dioxide</th>\n",
       "      <td>-0.049396</td>\n",
       "      <td>-0.097012</td>\n",
       "      <td>0.094077</td>\n",
       "      <td>0.299098</td>\n",
       "      <td>0.101392</td>\n",
       "      <td>1.000000</td>\n",
       "      <td>0.615501</td>\n",
       "      <td>0.294210</td>\n",
       "      <td>-0.000618</td>\n",
       "      <td>0.059217</td>\n",
       "      <td>-0.250104</td>\n",
       "      <td>0.008158</td>\n",
       "    </tr>\n",
       "    <tr>\n",
       "      <th>total sulfur dioxide</th>\n",
       "      <td>0.091070</td>\n",
       "      <td>0.089261</td>\n",
       "      <td>0.121131</td>\n",
       "      <td>0.401439</td>\n",
       "      <td>0.198910</td>\n",
       "      <td>0.615501</td>\n",
       "      <td>1.000000</td>\n",
       "      <td>0.529881</td>\n",
       "      <td>0.002321</td>\n",
       "      <td>0.134562</td>\n",
       "      <td>-0.448892</td>\n",
       "      <td>-0.174737</td>\n",
       "    </tr>\n",
       "    <tr>\n",
       "      <th>density</th>\n",
       "      <td>0.265331</td>\n",
       "      <td>0.027114</td>\n",
       "      <td>0.149503</td>\n",
       "      <td>0.838966</td>\n",
       "      <td>0.257211</td>\n",
       "      <td>0.294210</td>\n",
       "      <td>0.529881</td>\n",
       "      <td>1.000000</td>\n",
       "      <td>-0.093591</td>\n",
       "      <td>0.074493</td>\n",
       "      <td>-0.780138</td>\n",
       "      <td>-0.307123</td>\n",
       "    </tr>\n",
       "    <tr>\n",
       "      <th>pH</th>\n",
       "      <td>-0.425858</td>\n",
       "      <td>-0.031915</td>\n",
       "      <td>-0.163748</td>\n",
       "      <td>-0.194133</td>\n",
       "      <td>-0.090439</td>\n",
       "      <td>-0.000618</td>\n",
       "      <td>0.002321</td>\n",
       "      <td>-0.093591</td>\n",
       "      <td>1.000000</td>\n",
       "      <td>0.155951</td>\n",
       "      <td>0.121432</td>\n",
       "      <td>0.099427</td>\n",
       "    </tr>\n",
       "    <tr>\n",
       "      <th>sulphates</th>\n",
       "      <td>-0.017143</td>\n",
       "      <td>-0.035728</td>\n",
       "      <td>0.062331</td>\n",
       "      <td>-0.026664</td>\n",
       "      <td>0.016763</td>\n",
       "      <td>0.059217</td>\n",
       "      <td>0.134562</td>\n",
       "      <td>0.074493</td>\n",
       "      <td>0.155951</td>\n",
       "      <td>1.000000</td>\n",
       "      <td>-0.017433</td>\n",
       "      <td>0.053678</td>\n",
       "    </tr>\n",
       "    <tr>\n",
       "      <th>alcohol</th>\n",
       "      <td>-0.120881</td>\n",
       "      <td>0.067718</td>\n",
       "      <td>-0.075729</td>\n",
       "      <td>-0.450631</td>\n",
       "      <td>-0.360189</td>\n",
       "      <td>-0.250104</td>\n",
       "      <td>-0.448892</td>\n",
       "      <td>-0.780138</td>\n",
       "      <td>0.121432</td>\n",
       "      <td>-0.017433</td>\n",
       "      <td>1.000000</td>\n",
       "      <td>0.435575</td>\n",
       "    </tr>\n",
       "    <tr>\n",
       "      <th>quality</th>\n",
       "      <td>-0.113663</td>\n",
       "      <td>-0.194723</td>\n",
       "      <td>-0.009209</td>\n",
       "      <td>-0.097577</td>\n",
       "      <td>-0.209934</td>\n",
       "      <td>0.008158</td>\n",
       "      <td>-0.174737</td>\n",
       "      <td>-0.307123</td>\n",
       "      <td>0.099427</td>\n",
       "      <td>0.053678</td>\n",
       "      <td>0.435575</td>\n",
       "      <td>1.000000</td>\n",
       "    </tr>\n",
       "  </tbody>\n",
       "</table>\n",
       "</div>"
      ],
      "text/plain": [
       "                      fixed acidity  volatile acidity  citric acid  \\\n",
       "fixed acidity              1.000000         -0.022697     0.289181   \n",
       "volatile acidity          -0.022697          1.000000    -0.149472   \n",
       "citric acid                0.289181         -0.149472     1.000000   \n",
       "residual sugar             0.089021          0.064286     0.094212   \n",
       "chlorides                  0.023086          0.070512     0.114364   \n",
       "free sulfur dioxide       -0.049396         -0.097012     0.094077   \n",
       "total sulfur dioxide       0.091070          0.089261     0.121131   \n",
       "density                    0.265331          0.027114     0.149503   \n",
       "pH                        -0.425858         -0.031915    -0.163748   \n",
       "sulphates                 -0.017143         -0.035728     0.062331   \n",
       "alcohol                   -0.120881          0.067718    -0.075729   \n",
       "quality                   -0.113663         -0.194723    -0.009209   \n",
       "\n",
       "                      residual sugar  chlorides  free sulfur dioxide  \\\n",
       "fixed acidity               0.089021   0.023086            -0.049396   \n",
       "volatile acidity            0.064286   0.070512            -0.097012   \n",
       "citric acid                 0.094212   0.114364             0.094077   \n",
       "residual sugar              1.000000   0.088685             0.299098   \n",
       "chlorides                   0.088685   1.000000             0.101392   \n",
       "free sulfur dioxide         0.299098   0.101392             1.000000   \n",
       "total sulfur dioxide        0.401439   0.198910             0.615501   \n",
       "density                     0.838966   0.257211             0.294210   \n",
       "pH                         -0.194133  -0.090439            -0.000618   \n",
       "sulphates                  -0.026664   0.016763             0.059217   \n",
       "alcohol                    -0.450631  -0.360189            -0.250104   \n",
       "quality                    -0.097577  -0.209934             0.008158   \n",
       "\n",
       "                      total sulfur dioxide   density        pH  sulphates  \\\n",
       "fixed acidity                     0.091070  0.265331 -0.425858  -0.017143   \n",
       "volatile acidity                  0.089261  0.027114 -0.031915  -0.035728   \n",
       "citric acid                       0.121131  0.149503 -0.163748   0.062331   \n",
       "residual sugar                    0.401439  0.838966 -0.194133  -0.026664   \n",
       "chlorides                         0.198910  0.257211 -0.090439   0.016763   \n",
       "free sulfur dioxide               0.615501  0.294210 -0.000618   0.059217   \n",
       "total sulfur dioxide              1.000000  0.529881  0.002321   0.134562   \n",
       "density                           0.529881  1.000000 -0.093591   0.074493   \n",
       "pH                                0.002321 -0.093591  1.000000   0.155951   \n",
       "sulphates                         0.134562  0.074493  0.155951   1.000000   \n",
       "alcohol                          -0.448892 -0.780138  0.121432  -0.017433   \n",
       "quality                          -0.174737 -0.307123  0.099427   0.053678   \n",
       "\n",
       "                       alcohol   quality  \n",
       "fixed acidity        -0.120881 -0.113663  \n",
       "volatile acidity      0.067718 -0.194723  \n",
       "citric acid          -0.075729 -0.009209  \n",
       "residual sugar       -0.450631 -0.097577  \n",
       "chlorides            -0.360189 -0.209934  \n",
       "free sulfur dioxide  -0.250104  0.008158  \n",
       "total sulfur dioxide -0.448892 -0.174737  \n",
       "density              -0.780138 -0.307123  \n",
       "pH                    0.121432  0.099427  \n",
       "sulphates            -0.017433  0.053678  \n",
       "alcohol               1.000000  0.435575  \n",
       "quality               0.435575  1.000000  "
      ]
     },
     "execution_count": 9,
     "metadata": {},
     "output_type": "execute_result"
    }
   ],
   "source": [
    "# Correlation between the different columns\n",
    "df.corr()"
   ]
  },
  {
   "cell_type": "code",
   "execution_count": 10,
   "id": "595d4057",
   "metadata": {},
   "outputs": [],
   "source": [
    "# Visualization\n",
    "import matplotlib.pyplot as plt\n",
    "import seaborn as sns"
   ]
  },
  {
   "cell_type": "code",
   "execution_count": 14,
   "id": "b3e7553b",
   "metadata": {},
   "outputs": [
    {
     "data": {
      "image/png": "[encoded data removed]",
      "text/plain": [
       "<Figure size 720x720 with 2 Axes>"
      ]
     },
     "metadata": {
      "needs_background": "light"
     },
     "output_type": "display_data"
    }
   ],
   "source": [
    "# Visualizing correlation\n",
    "plt.figure(figsize=(10,10))\n",
    "sns.heatmap(df.corr(), annot=True, cmap=\"Reds\")\n",
    "plt.show()"
   ]
  },
  {
   "cell_type": "markdown",
   "id": "e4e147f3",
   "metadata": {},
   "source": [
    "How quality changes as alcohol changes."
   ]
  },
  {
   "cell_type": "code",
   "execution_count": 18,
   "id": "ee5f2348",
   "metadata": {},
   "outputs": [
    {
     "data": {
      "image/png": "[encoded data removed]",
      "text/plain": [
       "<Figure size 720x576 with 1 Axes>"
      ]
     },
     "metadata": {
      "needs_background": "light"
     },
     "output_type": "display_data"
    }
   ],
   "source": [
    "plt.figure(figsize=(10,8))\n",
    "sns.boxplot(data=df, x=\"quality\", y=\"alcohol\")\n",
    "plt.show()"
   ]
  },
  {
   "cell_type": "markdown",
   "id": "ed50155e",
   "metadata": {},
   "source": [
    "How quality changes as sulphate changes."
   ]
  },
  {
   "cell_type": "code",
   "execution_count": 19,
   "id": "53aa8f29",
   "metadata": {},
   "outputs": [
    {
     "data": {
      "image/png": "[encoded data removed]",
      "text/plain": [
       "<Figure size 720x576 with 1 Axes>"
      ]
     },
     "metadata": {
      "needs_background": "light"
     },
     "output_type": "display_data"
    }
   ],
   "source": [
    "plt.figure(figsize=(10,8))\n",
    "sns.boxplot(data=df, x=\"quality\", y=\"sulphates\")\n",
    "plt.show()"
   ]
  },
  {
   "cell_type": "markdown",
   "id": "e6d23559",
   "metadata": {},
   "source": [
    "### Predictions\n",
    "#### Using `KNN`"
   ]
  },
  {
   "cell_type": "code",
   "execution_count": 37,
   "id": "0982f29c",
   "metadata": {},
   "outputs": [
    {
     "data": {
      "text/plain": [
       "0.5387755102040817"
      ]
     },
     "execution_count": 37,
     "metadata": {},
     "output_type": "execute_result"
    }
   ],
   "source": [
    "from sklearn.neighbors import KNeighborsClassifier as KNN\n",
    "from sklearn.model_selection import train_test_split\n",
    "from sklearn.preprocessing import StandardScaler\n",
    "from sklearn.pipeline import Pipeline\n",
    "\n",
    "# Random seed\n",
    "np.random.seed(42)\n",
    "\n",
    "steps = [(\"scaler\", StandardScaler()),\n",
    "        (\"knn\", KNN(n_neighbors=5))]\n",
    "\n",
    "# Initiate the pipeline\n",
    "pipe = Pipeline(steps)\n",
    "\n",
    "# Create and split data\n",
    "X = df.drop([\"quality\", \"sulphates\", \"free sulfur dioxide\", \"citric acid\", \"residual sugar\"], axis=1)\n",
    "y = df[\"quality\"]\n",
    "\n",
    "X_train, X_test, y_train, y_test = train_test_split(X, y, test_size=0.3)\n",
    "\n",
    "# Initiate and fit our model using the pipeline\n",
    "knn = pipe.fit(X_train, y_train)\n",
    "\n",
    "# Score\n",
    "knn.score(X_test, y_test)"
   ]
  },
  {
   "cell_type": "markdown",
   "id": "23c3068d",
   "metadata": {},
   "source": [
    "**Evaluating our model**"
   ]
  },
  {
   "cell_type": "code",
   "execution_count": 38,
   "id": "af7bf6cb",
   "metadata": {},
   "outputs": [
    {
     "name": "stdout",
     "output_type": "stream",
     "text": [
      "[6 7 7 5 7]\n"
     ]
    },
    {
     "data": {
      "text/plain": [
       "array([[  0,   0,   6,   1,   0,   0],\n",
       "       [  0,   5,  19,  13,   3,   0],\n",
       "       [  0,  19, 251, 142,  14,   0],\n",
       "       [  0,  13, 173, 417,  63,   2],\n",
       "       [  0,   3,  29, 128, 116,   4],\n",
       "       [  0,   0,   0,  23,  23,   3]], dtype=int64)"
      ]
     },
     "execution_count": 38,
     "metadata": {},
     "output_type": "execute_result"
    }
   ],
   "source": [
    "from sklearn.metrics import confusion_matrix, classification_report\n",
    "\n",
    "# Predictions\n",
    "y_pred = knn.predict(X_test)\n",
    "print(y_pred[:5])\n",
    "\n",
    "# Confusion matrix\n",
    "confusion_matrix(y_test, y_pred)"
   ]
  },
  {
   "cell_type": "code",
   "execution_count": 39,
   "id": "b01d459c",
   "metadata": {},
   "outputs": [
    {
     "name": "stdout",
     "output_type": "stream",
     "text": [
      "              precision    recall  f1-score   support\n",
      "\n",
      "           3       0.00      0.00      0.00         7\n",
      "           4       0.12      0.12      0.12        40\n",
      "           5       0.53      0.59      0.56       426\n",
      "           6       0.58      0.62      0.60       668\n",
      "           7       0.53      0.41      0.46       280\n",
      "           8       0.33      0.06      0.10        49\n",
      "\n",
      "    accuracy                           0.54      1470\n",
      "   macro avg       0.35      0.30      0.31      1470\n",
      "weighted avg       0.53      0.54      0.53      1470\n",
      "\n"
     ]
    },
    {
     "name": "stderr",
     "output_type": "stream",
     "text": [
      "C:\\Users\\ronni\\anaconda3\\lib\\site-packages\\sklearn\\metrics\\_classification.py:1318: UndefinedMetricWarning: Precision and F-score are ill-defined and being set to 0.0 in labels with no predicted samples. Use `zero_division` parameter to control this behavior.\n",
      "  _warn_prf(average, modifier, msg_start, len(result))\n",
      "C:\\Users\\ronni\\anaconda3\\lib\\site-packages\\sklearn\\metrics\\_classification.py:1318: UndefinedMetricWarning: Precision and F-score are ill-defined and being set to 0.0 in labels with no predicted samples. Use `zero_division` parameter to control this behavior.\n",
      "  _warn_prf(average, modifier, msg_start, len(result))\n",
      "C:\\Users\\ronni\\anaconda3\\lib\\site-packages\\sklearn\\metrics\\_classification.py:1318: UndefinedMetricWarning: Precision and F-score are ill-defined and being set to 0.0 in labels with no predicted samples. Use `zero_division` parameter to control this behavior.\n",
      "  _warn_prf(average, modifier, msg_start, len(result))\n"
     ]
    }
   ],
   "source": [
    "print(classification_report(y_test, y_pred))"
   ]
  },
  {
   "cell_type": "markdown",
   "id": "4cdfe140",
   "metadata": {},
   "source": [
    "**Improving the model using `GridSearchCV`**"
   ]
  },
  {
   "cell_type": "code",
   "execution_count": 40,
   "id": "6e9976f2",
   "metadata": {},
   "outputs": [],
   "source": [
    "from sklearn.model_selection import GridSearchCV, KFold\n",
    "\n",
    "np.random.seed(42)\n",
    "\n",
    "# Instantiate KFold\n",
    "kf = KFold(n_splits=5, shuffle=True)\n",
    "\n",
    "# Grid to tune\n",
    "param_grid = {\n",
    "    \"knn__n_neighbors\": np.arange(1,30)\n",
    "}\n",
    "\n",
    "# Instantiate our GSCV model\n",
    "knn_g = GridSearchCV(knn, param_grid, cv=kf) \n",
    "\n",
    "# Fit it\n",
    "knn_g.fit(X_train, y_train);"
   ]
  },
  {
   "cell_type": "code",
   "execution_count": 41,
   "id": "1ab723b4",
   "metadata": {},
   "outputs": [
    {
     "data": {
      "text/plain": [
       "{'knn__n_neighbors': 1}"
      ]
     },
     "execution_count": 41,
     "metadata": {},
     "output_type": "execute_result"
    }
   ],
   "source": [
    "# Best parameters\n",
    "knn_g.best_params_"
   ]
  },
  {
   "cell_type": "code",
   "execution_count": 42,
   "id": "83f0365d",
   "metadata": {},
   "outputs": [
    {
     "data": {
      "text/plain": [
       "0.5875163329148135"
      ]
     },
     "execution_count": 42,
     "metadata": {},
     "output_type": "execute_result"
    }
   ],
   "source": [
    "# Best score\n",
    "knn_g.best_score_"
   ]
  }
 ],
 "metadata": {
  "kernelspec": {
   "display_name": "Python 3 (ipykernel)",
   "language": "python",
   "name": "python3"
  },
  "language_info": {
   "codemirror_mode": {
    "name": "ipython",
    "version": 3
   },
   "file_extension": ".py",
   "mimetype": "text/x-python",
   "name": "python",
   "nbconvert_exporter": "python",
   "pygments_lexer": "ipython3",
   "version": "3.9.12"
  }
 },
 "nbformat": 4,
 "nbformat_minor": 5
}
